{
 "metadata": {
  "name": "",
  "signature": "sha256:0712f99b196056b45117d47acece67270191312bac28bb2c600850935c72c9da"
 },
 "nbformat": 3,
 "nbformat_minor": 0,
 "worksheets": [
  {
   "cells": [
    {
     "cell_type": "markdown",
     "metadata": {},
     "source": [
      "#Quality check for the main analysis"
     ]
    },
    {
     "cell_type": "code",
     "collapsed": false,
     "input": [
      "#adding custom path for my python functions \n",
      "#and importing required packages \n",
      "import nipype.interfaces.matlab as mlab      # how to run matlab\n",
      "import nibabel as nb\n",
      "import os\n",
      "import nipype.interfaces.fsl as fsl\n",
      "import nipype.interfaces.ants as ants\n",
      "import nipype.pipeline.engine as pe\n",
      "from nipype.interfaces.utility import Function\n",
      "import nipype.interfaces.io as nio\n",
      "import pandas\n",
      "from nipype.interfaces.io import DataFinder\n",
      "import nipype.interfaces.utility as util\n",
      "#custom path\n",
      "os.sys.path.append('/data/notebook/')\n",
      "from cogpy.pyview import mri\n",
      "from cogpy.lesion import lesion_filling\n",
      "from cogpy.io import IOcogpy\n",
      "from IPython.display import display, HTML\n",
      "from nipype.interfaces.freesurfer.preprocess import ReconAll\n",
      "import nipype.interfaces.freesurfer as fs    # freesurfer\n",
      "from IPython.parallel import Client\n",
      "import matplotlib.colors as cl\n",
      "mlab.MatlabCommand.set_default_matlab_cmd(\"matlab -nodesktop -nosplash\")\n",
      "# If SPM is not in your MATLAB path you should add it here\n",
      "mlab.MatlabCommand.set_default_paths('/opt/spm12b/')\n",
      "subjects_dir = os.path.abspath('/data/subjects_FS/')\n",
      "fs.FSCommand.set_default_subjects_dir(subjects_dir)"
     ],
     "language": "python",
     "metadata": {},
     "outputs": [],
     "prompt_number": 1
    },
    {
     "cell_type": "code",
     "collapsed": false,
     "input": [
      "#subject list fo incomplete runs because of spot termination by Amazon\n",
      "incomplete_FS = ['baseline_gA_P14',\n",
      "                 'baseline_gA_P15',\n",
      "                 'tp1_gA_P44',\n",
      "                 'baseline_gB_P22',\n",
      "                 'baseline_gA_P16',\n",
      "                 'baseline_gB_P31', \n",
      "                 'baseline_gB_P33',\n",
      "                 'baseline_gB_P36']\n",
      "#problematic subjects, need to re-run after some modification\n",
      "#control points, etc\n",
      "problematic_FS = ['tp2_gA_P1', #lesion map was redrawn\n",
      "                 'baseline_gB_P29', #control points \n",
      "                  'tp1_gB_P29', #control points\n",
      "                  'tp2_gB_P29', #control points\n",
      "                  "
     ],
     "language": "python",
     "metadata": {},
     "outputs": []
    }
   ],
   "metadata": {}
  }
 ]
}