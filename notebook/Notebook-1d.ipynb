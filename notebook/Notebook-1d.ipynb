{
 "metadata": {
  "name": "",
  "signature": "sha256:1af8af094370e39743a878958af9ddcaf56057f16e37217f66028fa5e325e83c"
 },
 "nbformat": 3,
 "nbformat_minor": 0,
 "worksheets": [
  {
   "cells": [
    {
     "cell_type": "markdown",
     "metadata": {},
     "source": [
      "Arman Eshaghi, Summer 2014"
     ]
    },
    {
     "cell_type": "code",
     "collapsed": false,
     "input": [
      "#adding custom path for my python functions \n",
      "#and importing required packages \n",
      "import nipype.interfaces.matlab as mlab      # how to run matlab\n",
      "import nibabel as nb\n",
      "import os\n",
      "import nipype.interfaces.fsl as fsl\n",
      "import nipype.interfaces.ants as ants\n",
      "import nipype.pipeline.engine as pe\n",
      "from nipype.interfaces.utility import Function\n",
      "import nipype.interfaces.io as nio\n",
      "import pandas\n",
      "from nipype.interfaces.io import DataFinder\n",
      "import nipype.interfaces.utility as util\n",
      "#custom path\n",
      "os.sys.path.append('/data/notebook/')\n",
      "from cogpy.visualise import mri\n",
      "from cogpy.lesion import lesion_filling\n",
      "from cogpy.io import IOcogpy\n",
      "from IPython.display import display, HTML\n",
      "from nipype.interfaces.freesurfer.preprocess import ReconAll\n",
      "import nipype.interfaces.freesurfer as fs    # freesurfer\n",
      "from IPython.parallel import Client\n",
      "mlab.MatlabCommand.set_default_matlab_cmd(\"matlab -nodesktop -nosplash\")\n",
      "# If SPM is not in your MATLAB path you should add it here\n",
      "mlab.MatlabCommand.set_default_paths('/opt/spm12b/')\n",
      "subjects_dir = os.path.abspath('/data/subjects_FS/')\n",
      "fs.FSCommand.set_default_subjects_dir(subjects_dir)"
     ],
     "language": "python",
     "metadata": {},
     "outputs": [],
     "prompt_number": 1
    },
    {
     "cell_type": "code",
     "collapsed": false,
     "input": [
      "#getting all each subject's id \n",
      "subject_list = pandas.io.parsers.read_csv('/data/reference_list.csv')\n",
      "subject_id = list(subject_list['id'])\n",
      "subject_group = list(subject_list['group'])"
     ],
     "language": "python",
     "metadata": {},
     "outputs": [],
     "prompt_number": 2
    },
    {
     "cell_type": "markdown",
     "metadata": {},
     "source": [
      "### Collecting data in an organized way with io interfaces"
     ]
    },
    {
     "cell_type": "markdown",
     "metadata": {},
     "source": [
      "####T1, FLAIR, lesion maps, 2 fMRI sessions , mag and phase images\n",
      "               "
     ]
    },
    {
     "cell_type": "code",
     "collapsed": false,
     "input": [
      "#T1 scans for patients, which needs lesion filling\n",
      "df_t1p = pe.Node(interface = DataFinder(), name = 't1_input_patients')\n",
      "#df_t1 = DataFinder()\n",
      "df_t1p.inputs.root_paths = '/data/'\n",
      "df_t1p.inputs.match_regex = '/(?P<timepoint>((baseline)|(tp)\\d))/(?P<group>(g[AB]|V))/t1/(?P<subject_id>([P]\\d{1,2}))/t1_.*\\.nii.gz'\n",
      "\n",
      "df_t1p_list = df_t1p.run()"
     ],
     "language": "python",
     "metadata": {},
     "outputs": [
      {
       "output_type": "stream",
       "stream": "stdout",
       "text": [
        "140614-19:29:51,736 workflow INFO:\n",
        "\t Executing node t1_input_patients in dir: /tmp/tmpMzUtzJ/t1_input_patients\n"
       ]
      }
     ],
     "prompt_number": 4
    },
    {
     "cell_type": "code",
     "collapsed": false,
     "input": [
      "#T1 scans for healthy controls, without need\n",
      "#for lesion filling\n",
      "df_t1v = pe.Node(interface = DataFinder(), name = 't1_input_volunteers')\n",
      "#df_t1v = DataFinder()\n",
      "df_t1v.inputs.root_paths = '/data/'\n",
      "df_t1v.inputs.match_regex = '/(?P<timepoint>((baseline)|(tp)\\d))/(?P<group>(g[AB]|V))/t1/(?P<subject_id>([V]\\d{1,2}))/t1_.*\\.nii.gz'\n",
      "#df_t1v_list = df_t1v.run()"
     ],
     "language": "python",
     "metadata": {},
     "outputs": [],
     "prompt_number": 5
    },
    {
     "cell_type": "code",
     "collapsed": false,
     "input": [
      "#checking number of subjects included\n",
      "df_t1p_list = df_t1p.run()\n",
      "size(df_t1p_list.outputs.subject_id)\n",
      "df_t1v_list = df_t1v.run()\n",
      "size(df_t1v_list.outputs.subject_id)"
     ],
     "language": "python",
     "metadata": {},
     "outputs": [
      {
       "output_type": "stream",
       "stream": "stdout",
       "text": [
        "140614-19:29:52,438 workflow INFO:\n",
        "\t Executing node t1_input_patients in dir: /tmp/tmpMzUtzJ/t1_input_patients\n"
       ]
      },
      {
       "output_type": "stream",
       "stream": "stdout",
       "text": [
        "140614-19:29:52,992 workflow INFO:\n",
        "\t Executing node t1_input_volunteers in dir: /tmp/tmpp9zi74/t1_input_volunteers\n"
       ]
      },
      {
       "metadata": {},
       "output_type": "pyout",
       "prompt_number": 6,
       "text": [
        "34"
       ]
      }
     ],
     "prompt_number": 6
    },
    {
     "cell_type": "code",
     "collapsed": false,
     "input": [
      "#FLAIR scans\n",
      "df_flair = pe.Node(interface = DataFinder(), name = 'flair_input_patients')\n",
      "df_flair.inputs.root_paths = '/data/'\n",
      "df_flair.inputs.match_regex = '/(?P<timepoint>((baseline)|(tp)\\d))/(?P<group>(g[AB]))/flair/(?P<subject_id>([VP]\\d{1,2}))/flair_.*\\.nii.gz'\n",
      "df_flair_list = df_flair.run()"
     ],
     "language": "python",
     "metadata": {},
     "outputs": [
      {
       "output_type": "stream",
       "stream": "stdout",
       "text": [
        "140614-19:29:53,536 workflow INFO:\n",
        "\t Executing node flair_input_patients in dir: /tmp/tmpH0VURs/flair_input_patients\n"
       ]
      }
     ],
     "prompt_number": 7
    },
    {
     "cell_type": "code",
     "collapsed": false,
     "input": [
      "#checking number of subjects included\n",
      "size(df_flair_list.outputs.subject_id)"
     ],
     "language": "python",
     "metadata": {
      "slideshow": {
       "slide_type": "slide"
      }
     },
     "outputs": [
      {
       "metadata": {},
       "output_type": "pyout",
       "prompt_number": 8,
       "text": [
        "81"
       ]
      }
     ],
     "prompt_number": 8
    },
    {
     "cell_type": "code",
     "collapsed": false,
     "input": [
      "#lesion maps \n",
      "df_lm = pe.Node(interface = DataFinder(), name = 'flair_input_patients')\n",
      "df_lm.inputs.root_paths = '/data/'\n",
      "df_lm.inputs.match_regex = '/(?P<timepoint>((baseline)|(tp)\\d))/(?P<group>(g[AB]|V))/flair/(?P<subject_id>([VP]\\d{1,2}))/lesion_map.*\\.hdr'\n",
      "df_lm_list = df_lm.run()"
     ],
     "language": "python",
     "metadata": {},
     "outputs": [
      {
       "output_type": "stream",
       "stream": "stdout",
       "text": [
        "140614-19:29:54,124 workflow INFO:\n",
        "\t Executing node flair_input_patients in dir: /tmp/tmpt05MaK/flair_input_patients\n"
       ]
      }
     ],
     "prompt_number": 9
    },
    {
     "cell_type": "code",
     "collapsed": false,
     "input": [
      "#check number of lesion maps (only patients with MS)\n",
      "size(df_lm_list.outputs.out_paths)"
     ],
     "language": "python",
     "metadata": {},
     "outputs": [
      {
       "metadata": {},
       "output_type": "pyout",
       "prompt_number": 10,
       "text": [
        "81"
       ]
      }
     ],
     "prompt_number": 10
    },
    {
     "cell_type": "code",
     "collapsed": false,
     "input": [
      "#fmri first session scans\n",
      "df_fmri1 = DataFinder()\n",
      "df_fmri1.inputs.root_paths = '/data/'\n",
      "df_fmri1.inputs.match_regex = '/(?P<timepoint>((baseline)|(tp)\\d))/(?P<group>(g[AB]|V))/fmri1/(?P<subject_id>([VP]\\d{1,2}))/fmri1_.*(\\.nii.\\gz)$'\n",
      "df_fmri1_list = df_fmri1.run()"
     ],
     "language": "python",
     "metadata": {},
     "outputs": [],
     "prompt_number": 11
    },
    {
     "cell_type": "code",
     "collapsed": false,
     "input": [
      "#check number with first fMRI session\n",
      "size(df_fmri1_list.outputs.out_paths)"
     ],
     "language": "python",
     "metadata": {},
     "outputs": [
      {
       "metadata": {},
       "output_type": "pyout",
       "prompt_number": 12,
       "text": [
        "115"
       ]
      }
     ],
     "prompt_number": 12
    },
    {
     "cell_type": "code",
     "collapsed": false,
     "input": [
      "#fmri second session scans\n",
      "df_fmri2 = DataFinder()\n",
      "df_fmri2.inputs.root_paths = '/data/'\n",
      "df_fmri2.inputs.match_regex = '/(?P<timepoint>((baseline)|(tp)\\d))/(?P<group>(g[AB]|V))/fmri2/(?P<subject_id>([VP]\\d{1,2}))/fmri2_.*(\\.nii.\\gz)$'\n",
      "df_fmri2_list = df_fmri2.run()"
     ],
     "language": "python",
     "metadata": {},
     "outputs": [],
     "prompt_number": 13
    },
    {
     "cell_type": "markdown",
     "metadata": {},
     "source": [
      "__Warning__ _V2 timepoint 2 is incomplete_ __second session is 114, while first session is 115__"
     ]
    },
    {
     "cell_type": "code",
     "collapsed": true,
     "input": [
      "#number of second fMRI session is 114\n",
      "#V2 timepoint 2 is incomplete\n",
      "size(df_fmri2_list.outputs.out_paths)\n",
      "size(df_fmri1_list.outputs.out_paths)"
     ],
     "language": "python",
     "metadata": {},
     "outputs": [
      {
       "metadata": {},
       "output_type": "pyout",
       "prompt_number": 14,
       "text": [
        "115"
       ]
      }
     ],
     "prompt_number": 14
    },
    {
     "cell_type": "code",
     "collapsed": false,
     "input": [
      "subject_pid_tp = []\n",
      "subject_vid_tp = []\n",
      "for ( sub_no, sub_id) in enumerate(subject_id):\n",
      "    if 'V' in sub_id:\n",
      "        for tp in ['baseline','tp2']:\n",
      "            subject_vid_tp.append('%s_%s_%s' %(tp, subject_group[sub_no], \n",
      "                                     sub_id))\n",
      "    if 'P' in sub_id:\n",
      "        for tp in ['baseline','tp1', 'tp2']:\n",
      "            subject_pid_tp.append('%s_%s_%s' %(tp, subject_group[sub_no], \n",
      "                                     sub_id))"
     ],
     "language": "python",
     "metadata": {},
     "outputs": [],
     "prompt_number": 15
    },
    {
     "cell_type": "markdown",
     "metadata": {},
     "source": [
      "__Defining _iterables_ __"
     ]
    },
    {
     "cell_type": "markdown",
     "metadata": {},
     "source": [
      "#<font face=\"Charcoal\" color='#780000 '>Interfacing data finder</font>"
     ]
    },
    {
     "cell_type": "markdown",
     "metadata": {},
     "source": [
      "Listing subject id , group and timepoint to pass as one node to data grabber \n",
      "\n",
      "_need to put 'subject_id_tp' as iterable_"
     ]
    },
    {
     "cell_type": "code",
     "collapsed": false,
     "input": [
      "#initializing workflow and nodes\n",
      "workflow = pe.Workflow(name = 'structural_analysis')\n",
      "workflow.base_dir = '/data/working/'\n",
      "#patient sink\n",
      "datasink_p = pe.Node(nio.DataSink(), name='sinker_p')\n",
      "datasink_p.inputs.base_directory = '/data/working/'\n",
      "#volunteer sink\n",
      "datasink_v = pe.Node(nio.DataSink(), name='sinker_v')\n",
      "datasink_v.inputs.base_directory = '/data/working/'"
     ],
     "language": "python",
     "metadata": {},
     "outputs": [],
     "prompt_number": 16
    },
    {
     "cell_type": "code",
     "collapsed": false,
     "input": [
      "infosource_p = pe.Node(interface = util.IdentityInterface(fields=['subject_id']), \n",
      "                                                          name = \"infosource_p\")\n",
      "infosource_p.iterables = ('subject_id', subject_pid_tp)"
     ],
     "language": "python",
     "metadata": {},
     "outputs": [],
     "prompt_number": 17
    },
    {
     "cell_type": "code",
     "collapsed": false,
     "input": [
      "datafinder2_p = pe.Node(interface = IOcogpy(infields=['dummy'],\n",
      "                                          outfields=['t1', 'flair', 'lesion_map', \n",
      "                                                     'fmri1', 'fmri2', \n",
      "                                                     'mag1', 'mag2',\n",
      "                                                     'phase1', 'phase2'\n",
      "                                                     ]), name = 'datafinder2_p')\n",
      "\n",
      "datafinder2_p.inputs.base_directory = '/data/'\n",
      "info_p = dict(t1=[['subject_id', ['f3','f5','f7','f10']]],\n",
      "            flair=[['subject_id','struct']],\n",
      "            fmri1=[['subject_id','struct']],\n",
      "            fmri2=[['subject_id','struct']],\n",
      "            phase1=[['subject_id','struct']],\n",
      "            phase2 =[['subject_id','struct']], \n",
      "            mag1 = [['subject_id','struct']],\n",
      "            mag2 = [['subject_id','struct']]\n",
      "            )\n",
      "datafinder2_p.inputs.template_args = info_p\n",
      "datafinder2_p.inputs.sort_filelist = True\n",
      "datafinder2_p.inputs.template = '%s/%s/%s/%s/%s_%s_%s.nii.gz'\n",
      "datafinder2_p.inputs.field_template = dict(lesion_map='%s/%s/%s/%s/%s_%s_%s.hdr')\n",
      "datafinder2_p.inputs.template_args['lesion_map'] = [['sid']]"
     ],
     "language": "python",
     "metadata": {},
     "outputs": [],
     "prompt_number": 18
    },
    {
     "cell_type": "code",
     "collapsed": false,
     "input": [
      "infosource_v = pe.Node(interface = util.IdentityInterface(fields = ['subject_id']), \n",
      "                       name = 'infosource_v')\n",
      "infosource_v.iterables = ('subject_id', subject_vid_tp)"
     ],
     "language": "python",
     "metadata": {},
     "outputs": [],
     "prompt_number": 19
    },
    {
     "cell_type": "code",
     "collapsed": false,
     "input": [
      "datafinder2_v = pe.Node(interface = IOcogpy(infields=['dummy'],\n",
      "                                          outfields=['t1', \n",
      "                                                     'fmri1', 'fmri2', \n",
      "                                                     'mag1', 'mag2',\n",
      "                                                     'phase1', 'phase2'\n",
      "                                                     ]), name = 'datafinder2_v')\n",
      "info_v = dict(t1=[['subject_id', ['f3','f5','f7','f10']]],\n",
      "            fmri1=[['subject_id','struct']],\n",
      "            fmri2=[['subject_id','struct']],\n",
      "            phase1=[['subject_id','struct']],\n",
      "            phase2 =[['subject_id','struct']], \n",
      "            mag1 = [['subject_id','struct']],\n",
      "            mag2 = [['subject_id','struct']]\n",
      "            )\n",
      "datafinder2_v.inputs.base_directory = '/data/'\n",
      "info = dict(t1=[['subject_id', ['f3','f5','f7','f10']]],\n",
      "            flair=[['subject_id','struct']])\n",
      "datafinder2_v.inputs.template_args = info_v \n",
      "datafinder2_v.inputs.sort_filelist = True\n",
      "datafinder2_v.inputs.template = '%s/%s/%s/%s/%s_%s_%s.nii.gz'"
     ],
     "language": "python",
     "metadata": {},
     "outputs": [],
     "prompt_number": 20
    },
    {
     "cell_type": "code",
     "collapsed": true,
     "input": [
      "workflow.connect([(infosource_p, datafinder2_p,\n",
      "                   [('subject_id','subject_id')]\n",
      "                    )])\n",
      "workflow.connect([(infosource_v, datafinder2_v,\n",
      "                   [('subject_id','subject_id')]\n",
      "                    )])\n",
      "workflow.connect(infosource_p, 'subject_id', datasink_p, 'container')\n",
      "workflow.connect(infosource_v, 'subject_id', datasink_v, 'container')"
     ],
     "language": "python",
     "metadata": {},
     "outputs": [],
     "prompt_number": 21
    },
    {
     "cell_type": "markdown",
     "metadata": {},
     "source": [
      "---\n",
      "\n",
      "##<font color='#FFCCCC '>  </font>\n",
      "\n",
      " __<marquee bgcolor=\"#FFFFFF\" COLOR='#D6D6C2' loop=\"-1\" scrollamount=\"5\" width=\"100%\">1. N4-bias field correction</marquee>__\n",
      "\n",
      " 1. __<font color='blue'>Volunteers</font>__ pass to FreeSurfer directly.\n",
      "\n",
      " 2. __<font color='red'>Patients</font>__ pass to lesion filling before that\n",
      "\n"
     ]
    },
    {
     "cell_type": "markdown",
     "metadata": {},
     "source": [
      "_Starting from_ __<font face = 'futura' color='red'>patients</font>:__"
     ]
    },
    {
     "cell_type": "code",
     "collapsed": false,
     "input": [
      "BiasFieldCorP = pe.Node(interface = ants.N4BiasFieldCorrection(), \n",
      "                        name = 'P_bias_field')\n",
      "BiasFieldCorV = pe.Node(interface = ants.N4BiasFieldCorrection(), \n",
      "                        name = 'V_bias_field')"
     ],
     "language": "python",
     "metadata": {},
     "outputs": [],
     "prompt_number": 22
    },
    {
     "cell_type": "code",
     "collapsed": true,
     "input": [
      "workflow.connect([(datafinder2_p, BiasFieldCorP,\n",
      "                   [('t1','input_image')]\n",
      "                    )])\n",
      "workflow.connect([(datafinder2_v, BiasFieldCorV,\n",
      "                   [('t1','input_image')]\n",
      "                    )])"
     ],
     "language": "python",
     "metadata": {},
     "outputs": [],
     "prompt_number": 23
    },
    {
     "cell_type": "markdown",
     "metadata": {},
     "source": [
      "__<marquee bgcolor=\"#FFFFFF\" COLOR='#D6D6C2' loop=\"-1\" scrollamount=\"5\" width=\"100%\">2. T1 to FLAIR coregistration</marquee>__"
     ]
    },
    {
     "cell_type": "code",
     "collapsed": false,
     "input": [
      "regt1fl_p = pe.Node(interface = ants.Registration(), name = 'flair_t1_reg_p') \n",
      "regt1fl_p.inputs.transforms = ['Rigid']\n",
      "regt1fl_p.inputs.transform_parameters = [(2.0,)]\n",
      "regt1fl_p.inputs.dimension = 3\n",
      "regt1fl_p.inputs.number_of_iterations = [[1500, 200]]\n",
      "regt1fl_p.inputs.metric = ['MI']\n",
      "regt1fl_p.inputs.smoothing_sigmas = [[1,0]]\n",
      "regt1fl_p.inputs.shrink_factors = [[2,1]]"
     ],
     "language": "python",
     "metadata": {},
     "outputs": [],
     "prompt_number": 24
    },
    {
     "cell_type": "code",
     "collapsed": false,
     "input": [
      "workflow.connect([(datafinder2_p, regt1fl_p,\n",
      "                   [('flair', 'moving_image')]), \n",
      "                  (BiasFieldCorP, regt1fl_p, \n",
      "                   [('output_image','fixed_image')]\n",
      "                   )\n",
      "                  ])\n"
     ],
     "language": "python",
     "metadata": {},
     "outputs": [],
     "prompt_number": 25
    },
    {
     "cell_type": "markdown",
     "metadata": {},
     "source": [
      "__<marquee bgcolor=\"#FFFFFF\" COLOR='#D6D6C2' loop=\"-1\" scrollamount=\"5\" width=\"100%\">3. Applying forward transformation from FLAIR>>T1 to lesion maps</marquee>__"
     ]
    },
    {
     "cell_type": "code",
     "collapsed": false,
     "input": [
      "applytrans1_p = pe.Node(interface = ants.ApplyTransforms(), \n",
      "                     name = 'apply_transform1_p')\n",
      "\n",
      "applytrans1_p.inputs.dimension = 3\n",
      "\n",
      "\n",
      "workflow.connect([(BiasFieldCorP, applytrans1_p,\n",
      "                   [('output_image', 'reference_image')]), \n",
      "                  (regt1fl_p, applytrans1_p, \n",
      "                   [('forward_transforms','transforms')]\n",
      "                   ), \n",
      "                  (datafinder2_p, applytrans1_p, \n",
      "                   [('lesion_map','input_image')]\n",
      "                   )\n",
      "                  ])"
     ],
     "language": "python",
     "metadata": {},
     "outputs": [],
     "prompt_number": 26
    },
    {
     "cell_type": "markdown",
     "metadata": {},
     "source": [
      "__<marquee bgcolor=\"#FFFFFF\" COLOR='#D6D6C2' loop=\"-1\" scrollamount=\"5\" width=\"100%\">4. Brain extraction </marquee>__"
     ]
    },
    {
     "cell_type": "code",
     "collapsed": false,
     "input": [
      "bet_p = pe.Node(interface = fsl.BET(), \n",
      "              name = 'bet')\n",
      "\n",
      "bet_p.inputs.frac = 0.2\n",
      "bet_p.inputs.mask = True\n",
      "\n",
      "workflow.connect([(BiasFieldCorP, bet_p,\n",
      "                   [('output_image', 'in_file')]), \n",
      "                  ])"
     ],
     "language": "python",
     "metadata": {},
     "outputs": [],
     "prompt_number": 27
    },
    {
     "cell_type": "markdown",
     "metadata": {},
     "source": [
      "__<marquee bgcolor=\"#FFFFFF\" COLOR='#D6D6C2' loop=\"-1\" scrollamount=\"5\" width=\"100%\">5. Binarising lesion map from FLAIR </marquee>__"
     ]
    },
    {
     "cell_type": "code",
     "collapsed": false,
     "input": [
      "binarise = pe.Node(interface = fsl.maths.UnaryMaths(),\n",
      "                   name = 'binarise') \n",
      "binarise.inputs.operation = 'bin'\n",
      "workflow.connect([(applytrans1_p, binarise,\n",
      "                   [('output_image','in_file')]\n",
      "                    )])"
     ],
     "language": "python",
     "metadata": {},
     "outputs": [],
     "prompt_number": 28
    },
    {
     "cell_type": "markdown",
     "metadata": {},
     "source": [
      "####6. Priliminary segmentation "
     ]
    },
    {
     "cell_type": "code",
     "collapsed": false,
     "input": [
      "pril_segment = pe.Node(interface = ants.Atropos(), \n",
      "                       name = 'pril_segment') \n",
      "pril_segment.inputs.initialization = 'KMeans'\n",
      "pril_segment.inputs.number_of_tissue_classes = 3\n",
      "pril_segment.inputs.dimension = 3\n",
      "pril_segment.inputs.out_classified_image_name = 'class_maps.nii.gz'\n",
      "pril_segment.inputs.save_posteriors = True\n",
      "pril_segment.inputs.posterior_formulation = 'POSTERIOR_%02d.nii.gz'\n",
      "\n",
      "\n",
      "workflow.connect([(BiasFieldCorP, pril_segment,\n",
      "                   [('output_image','intensity_images')]), \n",
      "                  (bet_p, pril_segment, \n",
      "                   [('mask_file','mask_image')]\n",
      "                   )\n",
      "                  ])"
     ],
     "language": "python",
     "metadata": {},
     "outputs": [
      {
       "output_type": "stream",
       "stream": "stderr",
       "text": [
        "/opt/anaconda/lib/python2.7/site-packages/nipype/interfaces/base.py:376: UserWarning: Input initialization requires inputs: number_of_tissue_classes\n",
        "  warn(msg)\n"
       ]
      }
     ],
     "prompt_number": 29
    },
    {
     "cell_type": "markdown",
     "metadata": {},
     "source": [
      "####7. lesion filling"
     ]
    },
    {
     "cell_type": "code",
     "collapsed": false,
     "input": [
      "posterior_selector = pe.Node(interface = lesion_filling.PosteriorSelector(), \n",
      "                             name = 'posterior_selector')\n",
      "posterior_selector.inputs.select = 'wm'\n",
      "workflow.connect([(pril_segment, posterior_selector, \n",
      "                   [('posteriors', 'posteriors')])\n",
      "                  ])\n",
      "                   "
     ],
     "language": "python",
     "metadata": {},
     "outputs": [],
     "prompt_number": 30
    },
    {
     "cell_type": "code",
     "collapsed": false,
     "input": [
      "lesion_filler = pe.Node(interface = lesion_filling.LesionFill(), \n",
      "                        name = 'lesion_filler')\n",
      "workflow.connect([(BiasFieldCorP, lesion_filler,\n",
      "                   [('output_image','T1')]), \n",
      "                  (binarise, lesion_filler, \n",
      "                   [('out_file','lesion_map')]\n",
      "                   ), \n",
      "                  (posterior_selector, lesion_filler, \n",
      "                   [('file_path','wmp_map')]\n",
      "                   )\n",
      "                  ])"
     ],
     "language": "python",
     "metadata": {},
     "outputs": [],
     "prompt_number": 31
    },
    {
     "cell_type": "code",
     "collapsed": false,
     "input": [
      "workflow.connect(lesion_filler, 'filled_t1', datasink_p, 'filled_t1')\n"
     ],
     "language": "python",
     "metadata": {},
     "outputs": [],
     "prompt_number": 32
    },
    {
     "cell_type": "markdown",
     "metadata": {},
     "source": [
      "####8. Freesurfer reconall - first run - cross sectional"
     ]
    },
    {
     "cell_type": "markdown",
     "metadata": {},
     "source": [
      "_patients_"
     ]
    },
    {
     "cell_type": "code",
     "collapsed": false,
     "input": [
      "recon_all_p = pe.Node(interface = ReconAll(), \n",
      "                      name = 'recon_all_p') \n",
      "recon_all_p.inputs.directive = 'all'\n",
      "recon_all_p.inputs.subjects_dir = '/data/subjects_FS/'\n",
      "\n",
      "\n",
      "workflow.connect([(lesion_filler, recon_all_p,\n",
      "                   [('filled_t1','T1_files')]), \n",
      "                  (infosource_p, recon_all_p, \n",
      "                   [('subject_id','subject_id')]\n",
      "                   )\n",
      "                  ])\n",
      "\n"
     ],
     "language": "python",
     "metadata": {},
     "outputs": [],
     "prompt_number": 33
    },
    {
     "cell_type": "markdown",
     "metadata": {},
     "source": [
      "_volunteers_ who do not need lesion filling in advance of freesurfer stuff"
     ]
    },
    {
     "cell_type": "code",
     "collapsed": false,
     "input": [
      "recon_all_v = pe.Node(interface = ReconAll(), \n",
      "                      name = 'recon_all_v') \n",
      "recon_all_v.inputs.directive = 'all'\n",
      "recon_all_v.inputs.subjects_dir = '/data/subjects_FS/'\n",
      "\n",
      "\n",
      "workflow.connect([(BiasFieldCorV, recon_all_v,\n",
      "                   [('output_image','T1_files')]), \n",
      "                  (infosource_v, recon_all_v, \n",
      "                   [('subject_id','subject_id')]\n",
      "                   )\n",
      "                  ])"
     ],
     "language": "python",
     "metadata": {},
     "outputs": [],
     "prompt_number": 34
    },
    {
     "cell_type": "markdown",
     "metadata": {},
     "source": [
      "#[Troubleshooting: Freesurfer steps](https://surfer.nmr.mgh.harvard.edu/fswiki/RecommendedReconstruction)\n",
      "  - Check __Talairach transform__\n",
      "  - Check __the skill strip__\n",
      "  - Check __white and pial surfaces__\n",
      "  - Check __segmentations__"
     ]
    },
    {
     "cell_type": "code",
     "collapsed": false,
     "input": [
      "from nipype import config\n",
      "config.enable_debug_mode()\n",
      "config.set('execution', 'job_finished_timeout', '65')\n"
     ],
     "language": "python",
     "metadata": {},
     "outputs": [],
     "prompt_number": 35
    },
    {
     "cell_type": "markdown",
     "metadata": {},
     "source": [
      "```\n",
      "for root, subdires, files in os.walk('/data/'):\n",
      "    for f in files:\n",
      "        if f.endswith('.img'):\n",
      "            path = os.path.join(root, f)\n",
      "            path_splitted = path.split('/')\n",
      "            tp = path_splitted[2]\n",
      "            group = path_splitted[3]\n",
      "            modality = path_splitted[4]\n",
      "            sid = path_splitted[5]\n",
      "            if modality == 'flair':\n",
      "                \n",
      "                new_path = os.path.join('/data/%s/%s/lesion_map/%s/%s' % \\\n",
      "                                        (tp, group, sid, f))\n",
      "                shutil.copy(path, new_path)\n",
      " ```"
     ]
    },
    {
     "cell_type": "markdown",
     "metadata": {},
     "source": [
      "##fMRI preprocessing"
     ]
    },
    {
     "cell_type": "code",
     "collapsed": false,
     "input": [
      "from nipype.interfaces import spm"
     ],
     "language": "python",
     "metadata": {},
     "outputs": [],
     "prompt_number": 36
    },
    {
     "cell_type": "markdown",
     "metadata": {},
     "source": [
      "1- __motion correction__"
     ]
    },
    {
     "cell_type": "code",
     "collapsed": false,
     "input": [
      "##patients\n",
      "#fmri_session1\n",
      "motion_corrector_p1 = pe.Node(interface = fsl.MCFLIRT(), \n",
      "                           name = 'motion_correction_P1'\n",
      "                           )\n",
      "\n",
      "motion_corrector_p1.inputs.interpolation = 'sinc'\n",
      "motion_corrector_p1.inputs.mean_vol = False\n",
      "\n",
      "#fmri_session2\n",
      "motion_corrector_p2 = pe.Node(interface = fsl.MCFLIRT(), \n",
      "                           name = 'motion_correction_P2'\n",
      "                           )\n",
      "\n",
      "motion_corrector_p2.inputs.interpolation = 'sinc'\n",
      "motion_corrector_p2.inputs.mean_vol = False\n",
      "\n",
      "\n",
      "workflow.connect([(datafinder2_p, motion_corrector_p1,\n",
      "                   [('fmri1','in_file')]\n",
      "                    ), \n",
      "                  (datafinder2_p, motion_corrector_p2,\n",
      "                   [('fmri2','in_file')]\n",
      "                    )\n",
      "                  ])\n",
      "##healthy volunteers\n",
      "#fmri session 1\n",
      "motion_corrector_v1 = pe.Node(interface = fsl.MCFLIRT(), \n",
      "                           name = 'motion_correction_V1'\n",
      "                           )\n",
      "\n",
      "motion_corrector_v1.inputs.interpolation = 'sinc'\n",
      "motion_corrector_v1.inputs.mean_vol = False\n",
      "#fmri session 2\n",
      "motion_corrector_v2 = pe.Node(interface = fsl.MCFLIRT(), \n",
      "                           name = 'motion_correction_V2'\n",
      "                           )\n",
      "\n",
      "motion_corrector_v2.inputs.interpolation = 'sinc'\n",
      "motion_corrector_v2.inputs.mean_vol = False\n",
      "\n",
      "workflow.connect([(datafinder2_v, motion_corrector_v1,\n",
      "                   [('fmri1','in_file')]\n",
      "                    ), \n",
      "                  (datafinder2_v, motion_corrector_v2,\n",
      "                   [('fmri2','in_file')]\n",
      "                    )\n",
      "                  ])"
     ],
     "language": "python",
     "metadata": {},
     "outputs": [],
     "prompt_number": 37
    },
    {
     "cell_type": "markdown",
     "metadata": {},
     "source": [
      "2- __slice timing correction__: In general not everyone agrees with this step, and even for DCM there is [_modelling_](http://www.ncbi.nlm.nih.gov/pubmed/17161624) of slice timing instead of [_correcting_](http://www.ncbi.nlm.nih.gov/pubmed/21757015) for it, however because our data is interleaved it is highly recommended to perform slice timing at preprocessing step. "
     ]
    },
    {
     "cell_type": "code",
     "collapsed": false,
     "input": [
      "##patients\n",
      "#fmri session 1\n",
      "\n",
      "slice_tc_p1 = pe.Node(interface = fsl.SliceTimer(),\n",
      "                      name = 'SliceTimingP1')\n",
      "slice_tc_p1.inputs.interleaved = True\n",
      "slice_tc_p1.inputs.slice_direction = 2\n",
      "slice_tc_p1.inputs.time_repetition = 2.0\n",
      "\n",
      "#fmri session 2\n",
      "slice_tc_p2 = pe.Node(interface = fsl.SliceTimer(), \n",
      "                      name = 'SliceTimingP2')\n",
      "slice_tc_p2.inputs.interleaved = True\n",
      "slice_tc_p2.inputs.slice_direction = 2\n",
      "slice_tc_p2.inputs.time_repetition = 2.0\n",
      "\n",
      "workflow.connect([( motion_corrector_p1, slice_tc_p1,\n",
      "                   [('out_file','in_file')]\n",
      "                    ), \n",
      "                  (motion_corrector_p2, slice_tc_p2,\n",
      "                   [('out_file','in_file')]\n",
      "                    )\n",
      "                  ])\n",
      "\n",
      "\n",
      "##volunteers\n",
      "#fmri session 1\n",
      "slice_tc_v1 = pe.Node(interface = fsl.SliceTimer(),\n",
      "                      name = 'SliceTimingV1')\n",
      "slice_tc_v1.inputs.interleaved = True\n",
      "slice_tc_v1.inputs.slice_direction = 2\n",
      "slice_tc_v1.inputs.time_repetition = 2.0\n",
      "\n",
      "#fmri session 2\n",
      "slice_tc_v2 = pe.Node(interface = fsl.SliceTimer(),\n",
      "                      name = 'SliceTimingV2')\n",
      "slice_tc_v2.inputs.interleaved = True\n",
      "slice_tc_v2.inputs.slice_direction = 2\n",
      "slice_tc_v2.inputs.time_repetition = 2.0\n",
      "\n",
      "workflow.connect([( motion_corrector_v1, slice_tc_v1,\n",
      "                   [('out_file','in_file')]\n",
      "                    ), \n",
      "                  (motion_corrector_v2, slice_tc_v2,\n",
      "                   [('out_file','in_file')]\n",
      "                    )\n",
      "                  ])"
     ],
     "language": "python",
     "metadata": {},
     "outputs": [],
     "prompt_number": 38
    },
    {
     "cell_type": "code",
     "collapsed": false,
     "input": [
      "# wm_mgz = nb.freesurfer.mghformat\n",
      "t1_mgz = nb.load('/data/subjects_FS/baseline_V_V1/mri/T1.mgz')\n",
      "\n"
     ],
     "language": "python",
     "metadata": {},
     "outputs": [],
     "prompt_number": 39
    },
    {
     "cell_type": "code",
     "collapsed": false,
     "input": [
      "vertices, faces = nb.freesurfer.read_geometry('/data/subjects_FS/baseline_V_V1/surf/lh.pial')\n",
      "print vertices.shape\n",
      "print faces.shape\n",
      "faces[2]"
     ],
     "language": "python",
     "metadata": {},
     "outputs": [
      {
       "output_type": "stream",
       "stream": "stdout",
       "text": [
        "(131266, 3)\n",
        "(262528, 3)\n"
       ]
      },
      {
       "metadata": {},
       "output_type": "pyout",
       "prompt_number": 20,
       "text": [
        "array([ 0, 64, 65], dtype=int32)"
       ]
      }
     ],
     "prompt_number": 20
    },
    {
     "cell_type": "code",
     "collapsed": true,
     "input": [
      "from mpl_toolkits.mplot3d import axes3d\n",
      "import matplotlib.pyplot as plt\n",
      "import numpy as np\n",
      "\n",
      "fig = plt.figure()\n",
      "ax = fig.add_subplot(111, projection='3d')\n",
      "ax.plot_wireframe(vertices[:,0], vertices[:,1], vertices[:,2], \n",
      "                cstride = 1,  rstride = 1)\n",
      "\n",
      "plt.show()"
     ],
     "language": "python",
     "metadata": {},
     "outputs": [
      {
       "metadata": {},
       "output_type": "display_data",
       "png": "[encoded data removed]",
       "text": [
        "<matplotlib.figure.Figure at 0x7fa212f92090>"
       ]
      }
     ],
     "prompt_number": 35
    },
    {
     "cell_type": "code",
     "collapsed": false,
     "input": [
      "vertices[1, 2]"
     ],
     "language": "python",
     "metadata": {},
     "outputs": [
      {
       "metadata": {},
       "output_type": "pyout",
       "prompt_number": 39,
       "text": [
        "-2.340238094329834"
       ]
      }
     ],
     "prompt_number": 39
    },
    {
     "cell_type": "code",
     "collapsed": false,
     "input": [
      "slices = 60\n",
      "plt.imshow((vertices[:, :, slices]),\n",
      "        cmap = plt.cm.gray,  aspect = 'auto', \n",
      "        interpolation = 'nearest')\n"
     ],
     "language": "python",
     "metadata": {},
     "outputs": [
      {
       "ename": "IndexError",
       "evalue": "too many indices",
       "output_type": "pyerr",
       "traceback": [
        "\u001b[1;31m---------------------------------------------------------------------------\u001b[0m\n\u001b[1;31mIndexError\u001b[0m                                Traceback (most recent call last)",
        "\u001b[1;32m<ipython-input-38-b84db1ef87fe>\u001b[0m in \u001b[0;36m<module>\u001b[1;34m()\u001b[0m\n\u001b[0;32m      1\u001b[0m \u001b[0mslices\u001b[0m \u001b[1;33m=\u001b[0m \u001b[1;36m60\u001b[0m\u001b[1;33m\u001b[0m\u001b[0m\n\u001b[1;32m----> 2\u001b[1;33m plt.imshow((vertices[:, :, slices]),\n\u001b[0m\u001b[0;32m      3\u001b[0m         \u001b[0mcmap\u001b[0m \u001b[1;33m=\u001b[0m \u001b[0mplt\u001b[0m\u001b[1;33m.\u001b[0m\u001b[0mcm\u001b[0m\u001b[1;33m.\u001b[0m\u001b[0mgray\u001b[0m\u001b[1;33m,\u001b[0m  \u001b[0maspect\u001b[0m \u001b[1;33m=\u001b[0m \u001b[1;34m'auto'\u001b[0m\u001b[1;33m,\u001b[0m\u001b[1;33m\u001b[0m\u001b[0m\n\u001b[0;32m      4\u001b[0m         interpolation = 'nearest')\n",
        "\u001b[1;31mIndexError\u001b[0m: too many indices"
       ]
      }
     ],
     "prompt_number": 38
    },
    {
     "cell_type": "code",
     "collapsed": false,
     "input": [
      "?ax.plot_surface"
     ],
     "language": "python",
     "metadata": {},
     "outputs": [],
     "prompt_number": 25
    },
    {
     "cell_type": "code",
     "collapsed": false,
     "input": [
      "lh_volume = nb.freesurfer.read_morph_data('/data/subjects_FS/baseline_V_V1/surf/lh.volume')"
     ],
     "language": "python",
     "metadata": {},
     "outputs": [],
     "prompt_number": 16
    },
    {
     "cell_type": "code",
     "collapsed": false,
     "input": [
      "lh_volume.shape"
     ],
     "language": "python",
     "metadata": {},
     "outputs": [
      {
       "metadata": {},
       "output_type": "pyout",
       "prompt_number": 17,
       "text": [
        "(131266,)"
       ]
      }
     ],
     "prompt_number": 17
    },
    {
     "cell_type": "code",
     "collapsed": false,
     "input": [
      "lh_cortex_label.shape"
     ],
     "language": "python",
     "metadata": {},
     "outputs": [
      {
       "metadata": {},
       "output_type": "pyout",
       "prompt_number": 35,
       "text": [
        "(34,)"
       ]
      }
     ],
     "prompt_number": 35
    },
    {
     "cell_type": "markdown",
     "metadata": {},
     "source": [
      "3- Resampling volume data to surface data"
     ]
    },
    {
     "cell_type": "code",
     "collapsed": false,
     "input": [
      "mri.image().show(path = '//data/subjects_FS/baseline_V_V1/mri/brainmask.mgz')"
     ],
     "language": "python",
     "metadata": {},
     "outputs": [
      {
       "output_type": "stream",
       "stream": "stdout",
       "text": [
        "44\n",
        "86\n",
        "128"
       ]
      },
      {
       "output_type": "stream",
       "stream": "stdout",
       "text": [
        "\n",
        "170\n",
        "212"
       ]
      },
      {
       "output_type": "stream",
       "stream": "stdout",
       "text": [
        "\n",
        "254\n"
       ]
      },
      {
       "metadata": {},
       "output_type": "display_data",
       "png": "[encoded data removed]",
       "text": [
        "<matplotlib.figure.Figure at 0x7fdde1abc910>"
       ]
      }
     ],
     "prompt_number": 52
    }
   ],
   "metadata": {}
  }
 ]
}